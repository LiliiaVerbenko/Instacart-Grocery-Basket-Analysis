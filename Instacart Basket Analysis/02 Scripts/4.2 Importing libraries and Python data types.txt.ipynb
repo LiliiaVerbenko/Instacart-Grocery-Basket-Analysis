{
 "cells": [
  {
   "cell_type": "markdown",
   "id": "e006767d",
   "metadata": {},
   "source": [
    "# 01. Importing libraries"
   ]
  },
  {
   "cell_type": "code",
   "execution_count": 1,
   "id": "c0e859e5",
   "metadata": {},
   "outputs": [],
   "source": [
    "# Import libraries\n",
    "import pandas as pd\n",
    "import numpy as np\n",
    "import os  "
   ]
  },
  {
   "cell_type": "markdown",
   "id": "24e94fa1",
   "metadata": {},
   "source": [
    "# 02. Data types"
   ]
  },
  {
   "cell_type": "code",
   "execution_count": 34,
   "id": "a05d026f",
   "metadata": {},
   "outputs": [],
   "source": [
    "a = 120"
   ]
  },
  {
   "cell_type": "code",
   "execution_count": 35,
   "id": "d57f0e99",
   "metadata": {},
   "outputs": [],
   "source": [
    "b = 20"
   ]
  },
  {
   "cell_type": "code",
   "execution_count": 40,
   "id": "b66c8e7b",
   "metadata": {},
   "outputs": [],
   "source": [
    "c = 80"
   ]
  },
  {
   "cell_type": "code",
   "execution_count": 41,
   "id": "ca5ca372",
   "metadata": {},
   "outputs": [],
   "source": [
    "d = 5"
   ]
  },
  {
   "cell_type": "code",
   "execution_count": 43,
   "id": "47a94b28",
   "metadata": {},
   "outputs": [
    {
     "data": {
      "text/plain": [
       "100"
      ]
     },
     "execution_count": 43,
     "metadata": {},
     "output_type": "execute_result"
    }
   ],
   "source": [
    "a - b"
   ]
  },
  {
   "cell_type": "code",
   "execution_count": 46,
   "id": "ef29a370",
   "metadata": {},
   "outputs": [
    {
     "data": {
      "text/plain": [
       "100"
      ]
     },
     "execution_count": 46,
     "metadata": {},
     "output_type": "execute_result"
    }
   ],
   "source": [
    "b + c"
   ]
  },
  {
   "cell_type": "code",
   "execution_count": 47,
   "id": "838b5537",
   "metadata": {},
   "outputs": [
    {
     "data": {
      "text/plain": [
       "100"
      ]
     },
     "execution_count": 47,
     "metadata": {},
     "output_type": "execute_result"
    }
   ],
   "source": [
    "d * b"
   ]
  },
  {
   "cell_type": "code",
   "execution_count": 48,
   "id": "d932fbd8",
   "metadata": {},
   "outputs": [],
   "source": [
    "x = 5.254"
   ]
  },
  {
   "cell_type": "code",
   "execution_count": 49,
   "id": "ea1a0884",
   "metadata": {},
   "outputs": [],
   "source": [
    "y = 7.123"
   ]
  },
  {
   "cell_type": "code",
   "execution_count": 50,
   "id": "bd974691",
   "metadata": {},
   "outputs": [
    {
     "data": {
      "text/plain": [
       "0.7376105573494314"
      ]
     },
     "execution_count": 50,
     "metadata": {},
     "output_type": "execute_result"
    }
   ],
   "source": [
    "x / y "
   ]
  },
  {
   "cell_type": "code",
   "execution_count": 54,
   "id": "f3bdda2c",
   "metadata": {},
   "outputs": [],
   "source": [
    "m = 'I love '"
   ]
  },
  {
   "cell_type": "code",
   "execution_count": 65,
   "id": "68a5e408",
   "metadata": {},
   "outputs": [],
   "source": [
    "n = 'Data Analytics,'"
   ]
  },
  {
   "cell_type": "code",
   "execution_count": 66,
   "id": "f017b60f",
   "metadata": {},
   "outputs": [
    {
     "data": {
      "text/plain": [
       "'I love Data Analytics,'"
      ]
     },
     "execution_count": 66,
     "metadata": {},
     "output_type": "execute_result"
    }
   ],
   "source": [
    "m + n"
   ]
  },
  {
   "cell_type": "code",
   "execution_count": 69,
   "id": "bc9f48f3",
   "metadata": {},
   "outputs": [],
   "source": [
    "l = ' and you? '"
   ]
  },
  {
   "cell_type": "code",
   "execution_count": 70,
   "id": "a31ee9be",
   "metadata": {},
   "outputs": [
    {
     "data": {
      "text/plain": [
       "'I love Data Analytics, and you? '"
      ]
     },
     "execution_count": 70,
     "metadata": {},
     "output_type": "execute_result"
    }
   ],
   "source": [
    "m + n + l"
   ]
  },
  {
   "cell_type": "code",
   "execution_count": 71,
   "id": "e03255eb",
   "metadata": {},
   "outputs": [
    {
     "data": {
      "text/plain": [
       "'I love Data Analytics, and you? I love Data Analytics, and you? I love Data Analytics, and you? '"
      ]
     },
     "execution_count": 71,
     "metadata": {},
     "output_type": "execute_result"
    }
   ],
   "source": [
    "(m + n + l) * 3"
   ]
  }
 ],
 "metadata": {
  "kernelspec": {
   "display_name": "Python 3 (ipykernel)",
   "language": "python",
   "name": "python3"
  },
  "language_info": {
   "codemirror_mode": {
    "name": "ipython",
    "version": 3
   },
   "file_extension": ".py",
   "mimetype": "text/x-python",
   "name": "python",
   "nbconvert_exporter": "python",
   "pygments_lexer": "ipython3",
   "version": "3.11.3"
  }
 },
 "nbformat": 4,
 "nbformat_minor": 5
}
